{
 "cells": [
  {
   "cell_type": "code",
   "execution_count": null,
   "metadata": {},
   "outputs": [],
   "source": [
    "import math\n",
    "from sympy import *\n",
    "from sympy.plotting import plot\n",
    "x=symbols('x')\n",
    "y=-12*x**4 - 18*x**3+5*x**2 + 10*x - 30\n",
    "fd=diff(y)\n",
    "print(fd)\n",
    "print(solve(y))#Определить корни\n",
    "plot(y)#Построить график\n",
    "print(solve(fd>0))#Найти интервалы, на которых функция возрастает\n",
    "print(solve(fd<0))#Найти интервалы, на которых функция убывает\n",
    "print(solve(fd))#Вычислить вершину\n",
    "print(solve(0<y))#Определить промежутки, на котором f > 0\n",
    "print(solve(y<0))#Определить промежутки, на котором f < 0\n"
   ]
  }
 ],
 "metadata": {
  "language_info": {
   "name": "python"
  },
  "orig_nbformat": 4
 },
 "nbformat": 4,
 "nbformat_minor": 2
}
